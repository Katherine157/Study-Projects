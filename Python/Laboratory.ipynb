{
  "cells": [
    {
      "cell_type": "markdown",
      "metadata": {
        "id": "u1v_roVFg_a8"
      },
      "source": [
        "## Лабораторная работа по курсу «Python для анализа данных»"
      ]
    },
    {
      "cell_type": "markdown",
      "metadata": {
        "id": "IUeaP54Pg_bL"
      },
      "source": [
        "#### Задача 1"
      ]
    },
    {
      "cell_type": "markdown",
      "metadata": {
        "id": "i_x61qoDg_bM"
      },
      "source": [
        "Дана строка:"
      ]
    },
    {
      "cell_type": "code",
      "execution_count": null,
      "metadata": {
        "id": "zH46AAD1g_bN"
      },
      "outputs": [],
      "source": [
        "string_01 = \"History is always written by the winners. When two cultures clash, the loser is obliterated, and the winner writes the history books - books which glorify their own cause and disparage the conquered foe. As Napoleon once said, 'What is history, but a fable agreed upon?'\""
      ]
    },
    {
      "cell_type": "markdown",
      "metadata": {
        "id": "ANizyEHJg_bR"
      },
      "source": [
        "1. Посчитайте, сколько в строке символов, исключая пробелы:"
      ]
    },
    {
      "cell_type": "code",
      "execution_count": null,
      "metadata": {
        "colab": {
          "base_uri": "https://localhost:8080/"
        },
        "id": "h9ROIohQg_bS",
        "outputId": "704b0e53-d739-4e02-f3b9-feebdf0a24b2"
      },
      "outputs": [
        {
          "output_type": "stream",
          "name": "stdout",
          "text": [
            "225\n"
          ]
        }
      ],
      "source": [
        "string = string_01.replace(\" \", \"\")\n",
        "\n",
        "res = len(string)\n",
        "\n",
        "print(res)"
      ]
    },
    {
      "cell_type": "markdown",
      "metadata": {
        "id": "m6YyYF9Mg_bT"
      },
      "source": [
        "2. Посчитайте, сколько в строке слов."
      ]
    },
    {
      "cell_type": "code",
      "execution_count": null,
      "metadata": {
        "colab": {
          "base_uri": "https://localhost:8080/"
        },
        "id": "aaKH13gpg_bU",
        "outputId": "60214639-d33b-4a3f-e8f1-efc230e5d7a6"
      },
      "outputs": [
        {
          "output_type": "stream",
          "name": "stdout",
          "text": [
            "46\n"
          ]
        }
      ],
      "source": [
        "string = string_01.split()\n",
        "\n",
        "res = len(string)\n",
        "\n",
        "print(res)"
      ]
    },
    {
      "cell_type": "markdown",
      "metadata": {
        "id": "cxNRWv_Ig_bX"
      },
      "source": [
        "3. Напишите функцию, которая будет принимать в качестве аргумента букву и выводить все слова из строки, начинающиеся на эту букву (например, “w”)."
      ]
    },
    {
      "cell_type": "code",
      "execution_count": 201,
      "metadata": {
        "id": "1QKonuPjg_bY",
        "colab": {
          "base_uri": "https://localhost:8080/"
        },
        "outputId": "9b4ec693-ae14-493f-d059-b6bef446fb0f"
      },
      "outputs": [
        {
          "output_type": "stream",
          "name": "stdout",
          "text": [
            "written\n",
            "winners.\n",
            "When\n",
            "winner\n",
            "writes\n",
            "which\n"
          ]
        },
        {
          "output_type": "execute_result",
          "data": {
            "text/plain": [
              "str"
            ]
          },
          "metadata": {},
          "execution_count": 201
        }
      ],
      "source": [
        "letter = 'w'\n",
        "\n",
        "def find_word():\n",
        "  for x in string_01.split():\n",
        "    if x.lower().startswith(letter):\n",
        "      print(x)\n",
        "\n",
        "find_word()"
      ]
    },
    {
      "cell_type": "markdown",
      "metadata": {
        "id": "2yogExV0g_ba"
      },
      "source": [
        "#### Задача 2"
      ]
    },
    {
      "cell_type": "markdown",
      "metadata": {
        "id": "R6yKXJ56g_bb"
      },
      "source": [
        "Напишите код, который будет генерировать случайную последовательность из 6 цифр, одна из которых должна быть 3. Позиция цифры 3 должна\n",
        "определяться случайным образом. Результат должен быть строкой. Например: \"456309\" или \"330127\"."
      ]
    },
    {
      "cell_type": "code",
      "execution_count": 173,
      "metadata": {
        "id": "AaNpBDfng_bd",
        "colab": {
          "base_uri": "https://localhost:8080/"
        },
        "outputId": "1776af39-3328-443e-a097-a7562e480597"
      },
      "outputs": [
        {
          "output_type": "stream",
          "name": "stdout",
          "text": [
            "464873\n"
          ]
        }
      ],
      "source": [
        "from random import randint\n",
        "\n",
        "num = ''\n",
        "\n",
        "while '3' not in num:\n",
        "  num = ''.join([str(randint(0,9)) for x in range(6)])\n",
        "\n",
        "print(num)"
      ]
    },
    {
      "cell_type": "markdown",
      "metadata": {
        "id": "KvvUXVkfg_be"
      },
      "source": [
        "#### Задача 3"
      ]
    },
    {
      "cell_type": "markdown",
      "metadata": {
        "id": "zbkkCBexg_bf"
      },
      "source": [
        "Дан список:"
      ]
    },
    {
      "cell_type": "code",
      "execution_count": null,
      "metadata": {
        "id": "mUC9-A2Ig_bg"
      },
      "outputs": [],
      "source": [
        "list_01 = [1, 1, 2, 3, 5, 8, 13, 21, 34, 55, 89, 144, 233, 377, 610, 14, 46, 273, 22, 99, 15, 1000]"
      ]
    },
    {
      "cell_type": "markdown",
      "metadata": {
        "id": "e_48AswPg_bh"
      },
      "source": [
        "Напишите алгоритм, который выводит число, равное сумме элементов списка, которые больше 10, но меньше 100, и которые больше 200, но меньше 500."
      ]
    },
    {
      "cell_type": "code",
      "execution_count": 177,
      "metadata": {
        "id": "yMYNERTig_bi",
        "colab": {
          "base_uri": "https://localhost:8080/"
        },
        "outputId": "b722d5ee-4aa6-49bb-bd07-3291abf2dcf7"
      },
      "outputs": [
        {
          "output_type": "execute_result",
          "data": {
            "text/plain": [
              "1291"
            ]
          },
          "metadata": {},
          "execution_count": 177
        }
      ],
      "source": [
        "list_01 = [1, 1, 2, 3, 5, 8, 13, 21, 34, 55, 89, 144, 233, 377, 610, 14, 46, 273, 22, 99, 15, 1000]\n",
        "\n",
        "sum([x for x in list_01 if 10 < x < 100 or 200 < x < 500])\n"
      ]
    },
    {
      "cell_type": "markdown",
      "metadata": {
        "id": "6ZhDmoPWg_bj"
      },
      "source": [
        "#### Задача 4"
      ]
    },
    {
      "cell_type": "markdown",
      "metadata": {
        "id": "XPb6ib4Kg_bk"
      },
      "source": [
        "Данные студентов представлены в виде списка списков:"
      ]
    },
    {
      "cell_type": "code",
      "execution_count": null,
      "metadata": {
        "id": "VmX5DlN2g_bl"
      },
      "outputs": [],
      "source": [
        "students = [\n",
        "[\"0001\", \"Антонов\", \"Антон\", \"Игоревич\", \"20.08.2009\",\"БСТ161\"],\n",
        "[\"1102\", \"Богов\", \"Артем\", \"Игоревич\", \"25.01.2010\",\"БСТ162\"],\n",
        "[\"0333\", \"Глаголева\", \"Анастасия\", \"Николаевна\", \"11.07.2009\", \"БСТ163\"],\n",
        "[\"4004\", \"Степанова\", \"Наталья\", \"Александровна\", \"13.02.2008\", \"БСТ161\"],\n",
        "[\"0045\", \"Боков\", \"Игорь\", \"Харитонович\", \"02.06.2009\", \"БСТ161\"],\n",
        "[\"0096\", \"Васильков\", \"Валентин\", \"Сергеевич\", \"20.03.2009\", \"БСТ164\"],\n",
        "[\"0607\", \"Сиропова\", \"Виолетта\", \"Эдуардовна\", \"28.05.2010\", \"БСТ162\"]\n",
        "    ]"
      ]
    },
    {
      "cell_type": "markdown",
      "metadata": {
        "id": "mqfL3vjOg_bm"
      },
      "source": [
        "1. Преобразуйте данные таким образом, чтобы они были представлены в виде словаря, в котором ключами являются номера студентов, а значениями — список из других данных о студентах."
      ]
    },
    {
      "cell_type": "code",
      "execution_count": 180,
      "metadata": {
        "id": "h5NnUo8ig_bn",
        "colab": {
          "base_uri": "https://localhost:8080/"
        },
        "outputId": "e97056de-b01f-4b09-dd1a-8b4b0e97be0d"
      },
      "outputs": [
        {
          "output_type": "stream",
          "name": "stdout",
          "text": [
            "{'0001': ['Антонов', 'Антон', 'Игоревич', '20.08.2009', 'БСТ161'], '1102': ['Богов', 'Артем', 'Игоревич', '25.01.2010', 'БСТ162'], '0333': ['Глаголева', 'Анастасия', 'Николаевна', '11.07.2009', 'БСТ163'], '4004': ['Степанова', 'Наталья', 'Александровна', '13.02.2008', 'БСТ161'], '0045': ['Боков', 'Игорь', 'Харитонович', '02.06.2009', 'БСТ161'], '0096': ['Васильков', 'Валентин', 'Сергеевич', '20.03.2009', 'БСТ164'], '0607': ['Сиропова', 'Виолетта', 'Эдуардовна', '28.05.2010', 'БСТ162']}\n"
          ]
        }
      ],
      "source": [
        "students_dict = {}\n",
        "\n",
        "for x in students:\n",
        "    students_dict[x[0]] = x[1:] \n",
        "  \n",
        "print(students_dict)"
      ]
    },
    {
      "cell_type": "markdown",
      "metadata": {
        "id": "Oh1h0iVwg_bo"
      },
      "source": [
        "2. Напишите функцию, которая принимает в качестве аргумента номер студента и новый номер группы и позволяет изменить номер группы этого студента на новый внутри созданного словаря."
      ]
    },
    {
      "cell_type": "code",
      "execution_count": 190,
      "metadata": {
        "id": "L-RsxnMfg_bq"
      },
      "outputs": [],
      "source": [
        "def change_num(num, new_num):\n",
        "\n",
        "  for x in students_dict.keys():\n",
        "    students_dict[num][4] = new_num\n",
        "\n",
        "change_num()"
      ]
    },
    {
      "cell_type": "markdown",
      "metadata": {
        "id": "w1LviKX-g_br"
      },
      "source": [
        "3. Напишите функцию, которая принимает номер группы и выводит список (фамилии, имена, отчества) всех студентов этой группы. Необходимо обращаться к словарю."
      ]
    },
    {
      "cell_type": "code",
      "execution_count": 192,
      "metadata": {
        "id": "wYCa9PJmg_bs",
        "colab": {
          "base_uri": "https://localhost:8080/"
        },
        "outputId": "343372ba-58b2-4faa-f246-0b47dcc2371d"
      },
      "outputs": [
        {
          "output_type": "stream",
          "name": "stdout",
          "text": [
            "['Антонов', 'Антон', 'Игоревич']\n",
            "['Богов', 'Артем', 'Игоревич']\n",
            "['Степанова', 'Наталья', 'Александровна']\n",
            "['Боков', 'Игорь', 'Харитонович']\n"
          ]
        }
      ],
      "source": [
        "def fio(num_group):\n",
        "  for x in students_dict.values():\n",
        "    if x[4] == num_group:\n",
        "      print(x[0:3])\n",
        "\n",
        "fio()"
      ]
    },
    {
      "cell_type": "markdown",
      "metadata": {
        "id": "OcxMAtATg_bt"
      },
      "source": [
        "#### Задача 5"
      ]
    },
    {
      "cell_type": "markdown",
      "metadata": {
        "id": "hbHXuNNBg_bu"
      },
      "source": [
        "Дана матрица:"
      ]
    },
    {
      "cell_type": "code",
      "execution_count": null,
      "metadata": {
        "id": "cW2NlWgZg_bv"
      },
      "outputs": [],
      "source": [
        "matrix = [ \n",
        "    [0,1,2,4,8], \n",
        "    [6,2,2,1,9], \n",
        "    [3,3,3,3,3], \n",
        "    [4,6,7,1,2], \n",
        "    [5,7,3,4,0] \n",
        "]"
      ]
    },
    {
      "cell_type": "markdown",
      "metadata": {
        "id": "gFaiH_6Xg_bw"
      },
      "source": [
        "1. Выведите результат сложения всех элементов матрицы."
      ]
    },
    {
      "cell_type": "code",
      "execution_count": 195,
      "metadata": {
        "id": "axKjeq8dg_bx",
        "colab": {
          "base_uri": "https://localhost:8080/"
        },
        "outputId": "8749fa16-18dc-49de-b6f9-39b63432b257"
      },
      "outputs": [
        {
          "output_type": "execute_result",
          "data": {
            "text/plain": [
              "89"
            ]
          },
          "metadata": {},
          "execution_count": 195
        }
      ],
      "source": [
        "sum(sum(x) for x in matrix)"
      ]
    },
    {
      "cell_type": "markdown",
      "metadata": {
        "id": "oNaY7f3Fg_by"
      },
      "source": [
        "2. Напишите алгоритм вычисления максимума из сумм элементов каждого столбца."
      ]
    },
    {
      "cell_type": "code",
      "execution_count": 196,
      "metadata": {
        "id": "hZ-QWdeig_by",
        "colab": {
          "base_uri": "https://localhost:8080/"
        },
        "outputId": "e4fc7b5d-797a-47f3-a7e9-cd3e0f9c3de5"
      },
      "outputs": [
        {
          "output_type": "execute_result",
          "data": {
            "text/plain": [
              "22"
            ]
          },
          "metadata": {},
          "execution_count": 196
        }
      ],
      "source": [
        "max(sum(x) for x in zip(*matrix))"
      ]
    }
  ],
  "metadata": {
    "kernelspec": {
      "display_name": "Python 3",
      "language": "python",
      "name": "python3"
    },
    "language_info": {
      "codemirror_mode": {
        "name": "ipython",
        "version": 3
      },
      "file_extension": ".py",
      "mimetype": "text/x-python",
      "name": "python",
      "nbconvert_exporter": "python",
      "pygments_lexer": "ipython3",
      "version": "3.7.0"
    },
    "colab": {
      "provenance": []
    }
  },
  "nbformat": 4,
  "nbformat_minor": 0
}